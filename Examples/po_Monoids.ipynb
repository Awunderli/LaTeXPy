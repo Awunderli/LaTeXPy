{
  "nbformat": 4,
  "nbformat_minor": 0,
  "metadata": {
    "colab": {
      "provenance": []
    },
    "kernelspec": {
      "name": "python3",
      "display_name": "Python 3"
    },
    "language_info": {
      "name": "python"
    }
  },
  "cells": [
    {
      "cell_type": "code",
      "execution_count": 1,
      "metadata": {
        "colab": {
          "base_uri": "https://localhost:8080/"
        },
        "id": "rkESJyB-9hcA",
        "outputId": "e2659b12-9d56-4fb6-dcc6-077b9a598a8d"
      },
      "outputs": [
        {
          "output_type": "stream",
          "name": "stdout",
          "text": [
            "Cloning into 'LaTeXPy'...\n",
            "remote: Enumerating objects: 141, done.\u001b[K\n",
            "remote: Counting objects:   6% (1/16)\u001b[K\rremote: Counting objects:  12% (2/16)\u001b[K\rremote: Counting objects:  18% (3/16)\u001b[K\rremote: Counting objects:  25% (4/16)\u001b[K\rremote: Counting objects:  31% (5/16)\u001b[K\rremote: Counting objects:  37% (6/16)\u001b[K\rremote: Counting objects:  43% (7/16)\u001b[K\rremote: Counting objects:  50% (8/16)\u001b[K\rremote: Counting objects:  56% (9/16)\u001b[K\rremote: Counting objects:  62% (10/16)\u001b[K\rremote: Counting objects:  68% (11/16)\u001b[K\rremote: Counting objects:  75% (12/16)\u001b[K\rremote: Counting objects:  81% (13/16)\u001b[K\rremote: Counting objects:  87% (14/16)\u001b[K\rremote: Counting objects:  93% (15/16)\u001b[K\rremote: Counting objects: 100% (16/16)\u001b[K\rremote: Counting objects: 100% (16/16), done.\u001b[K\n",
            "remote: Compressing objects:   6% (1/16)\u001b[K\rremote: Compressing objects:  12% (2/16)\u001b[K\rremote: Compressing objects:  18% (3/16)\u001b[K\rremote: Compressing objects:  25% (4/16)\u001b[K\rremote: Compressing objects:  31% (5/16)\u001b[K\rremote: Compressing objects:  37% (6/16)\u001b[K\rremote: Compressing objects:  43% (7/16)\u001b[K\rremote: Compressing objects:  50% (8/16)\u001b[K\rremote: Compressing objects:  56% (9/16)\u001b[K\rremote: Compressing objects:  62% (10/16)\u001b[K\rremote: Compressing objects:  68% (11/16)\u001b[K\rremote: Compressing objects:  75% (12/16)\u001b[K\rremote: Compressing objects:  81% (13/16)\u001b[K\rremote: Compressing objects:  87% (14/16)\u001b[K\rremote: Compressing objects:  93% (15/16)\u001b[K\rremote: Compressing objects: 100% (16/16)\u001b[K\rremote: Compressing objects: 100% (16/16), done.\u001b[K\n",
            "Receiving objects:   0% (1/141)   \rReceiving objects:   1% (2/141)   \rReceiving objects:   2% (3/141)   \rReceiving objects:   3% (5/141)   \rReceiving objects:   4% (6/141)   \rReceiving objects:   5% (8/141)   \rReceiving objects:   6% (9/141)   \rReceiving objects:   7% (10/141)   \rReceiving objects:   8% (12/141)   \rReceiving objects:   9% (13/141)   \rReceiving objects:  10% (15/141)   \rReceiving objects:  11% (16/141)   \rReceiving objects:  12% (17/141)   \rReceiving objects:  13% (19/141)   \rReceiving objects:  14% (20/141)   \rReceiving objects:  15% (22/141)   \rReceiving objects:  16% (23/141)   \rReceiving objects:  17% (24/141)   \rReceiving objects:  18% (26/141)   \rReceiving objects:  19% (27/141)   \rReceiving objects:  20% (29/141)   \rReceiving objects:  21% (30/141)   \rReceiving objects:  22% (32/141)   \rReceiving objects:  23% (33/141)   \rReceiving objects:  24% (34/141)   \rReceiving objects:  25% (36/141)   \rReceiving objects:  26% (37/141)   \rReceiving objects:  27% (39/141)   \rReceiving objects:  28% (40/141)   \rReceiving objects:  29% (41/141)   \rReceiving objects:  30% (43/141)   \rReceiving objects:  31% (44/141)   \rReceiving objects:  32% (46/141)   \rReceiving objects:  33% (47/141)   \rReceiving objects:  34% (48/141)   \rReceiving objects:  35% (50/141)   \rReceiving objects:  36% (51/141)   \rReceiving objects:  37% (53/141)   \rReceiving objects:  38% (54/141)   \rReceiving objects:  39% (55/141)   \rReceiving objects:  40% (57/141)   \rReceiving objects:  41% (58/141)   \rReceiving objects:  42% (60/141)   \rremote: Total 141 (delta 8), reused 0 (delta 0), pack-reused 125\u001b[K\n",
            "Receiving objects:  43% (61/141)   \rReceiving objects:  44% (63/141)   \rReceiving objects:  45% (64/141)   \rReceiving objects:  46% (65/141)   \rReceiving objects:  47% (67/141)   \rReceiving objects:  48% (68/141)   \rReceiving objects:  49% (70/141)   \rReceiving objects:  50% (71/141)   \rReceiving objects:  51% (72/141)   \rReceiving objects:  52% (74/141)   \rReceiving objects:  53% (75/141)   \rReceiving objects:  54% (77/141)   \rReceiving objects:  55% (78/141)   \rReceiving objects:  56% (79/141)   \rReceiving objects:  57% (81/141)   \rReceiving objects:  58% (82/141)   \rReceiving objects:  59% (84/141)   \rReceiving objects:  60% (85/141)   \rReceiving objects:  61% (87/141)   \rReceiving objects:  62% (88/141)   \rReceiving objects:  63% (89/141)   \rReceiving objects:  64% (91/141)   \rReceiving objects:  65% (92/141)   \rReceiving objects:  66% (94/141)   \rReceiving objects:  67% (95/141)   \rReceiving objects:  68% (96/141)   \rReceiving objects:  69% (98/141)   \rReceiving objects:  70% (99/141)   \rReceiving objects:  71% (101/141)   \rReceiving objects:  72% (102/141)   \rReceiving objects:  73% (103/141)   \rReceiving objects:  74% (105/141)   \rReceiving objects:  75% (106/141)   \rReceiving objects:  76% (108/141)   \rReceiving objects:  77% (109/141)   \rReceiving objects:  78% (110/141)   \rReceiving objects:  79% (112/141)   \rReceiving objects:  80% (113/141)   \rReceiving objects:  81% (115/141)   \rReceiving objects:  82% (116/141)   \rReceiving objects:  83% (118/141)   \rReceiving objects:  84% (119/141)   \rReceiving objects:  85% (120/141)   \rReceiving objects:  86% (122/141)   \rReceiving objects:  87% (123/141)   \rReceiving objects:  88% (125/141)   \rReceiving objects:  89% (126/141)   \rReceiving objects:  90% (127/141)   \rReceiving objects:  91% (129/141)   \rReceiving objects:  92% (130/141)   \rReceiving objects:  93% (132/141)   \rReceiving objects:  94% (133/141)   \rReceiving objects:  95% (134/141)   \rReceiving objects:  96% (136/141)   \rReceiving objects:  97% (137/141)   \rReceiving objects:  98% (139/141)   \rReceiving objects:  99% (140/141)   \rReceiving objects: 100% (141/141)   \rReceiving objects: 100% (141/141), 1017.65 KiB | 33.92 MiB/s, done.\n",
            "Resolving deltas:   0% (0/70)   \rResolving deltas:  42% (30/70)   \rResolving deltas:  52% (37/70)   \rResolving deltas:  80% (56/70)   \rResolving deltas:  84% (59/70)   \rResolving deltas:  85% (60/70)   \rResolving deltas:  87% (61/70)   \rResolving deltas:  91% (64/70)   \rResolving deltas:  95% (67/70)   \rResolving deltas:  97% (68/70)   \rResolving deltas:  98% (69/70)   \rResolving deltas: 100% (70/70)   \rResolving deltas: 100% (70/70), done.\n"
          ]
        }
      ],
      "source": [
        "!rm -rf LaTeXPy #remove any previous version\n",
        "!git clone https://github.com/jipsen/LaTeXPy.git\n",
        "import sys; sys.path.append('/content/LaTeXPy'); import LaTeXPy as l"
      ]
    },
    {
      "cell_type": "code",
      "source": [
        "l.m(r\"\"\"\n",
        "\\m{Pos}=[\n",
        "  x\\le x, \\newline\n",
        "  x\\le y \\And y\\le x\\implies x=y,\\newline\n",
        "  x\\le y \\And y\\le z\\implies x\\le z]\n",
        "\n",
        "\\s{cdot} = [x\\le y\\implies x\\cdot z\\le y\\cdot z, x\\le y\\implies z\\cdot x\\le z\\cdot y]\n",
        "\n",
        "A = \\Mod(\\m{Pos}+\\s{cdot}+\n",
        "[0\\le 1, \\Not 0\\le 2, \\Not 2\\le 0, \\Not 1\\le 2, \\Not 2\\le 1,\n",
        "(x\\cdot y)\\cdot z = x\\cdot(y\\cdot z), \n",
        "x\\cdot e = x, \n",
        "e\\cdot x = x], 3)?\n",
        "\n",
        "|A|?\n",
        "\n",
        "show(\\Pre(A_0))\n",
        "\"\"\")"
      ],
      "metadata": {
        "colab": {
          "base_uri": "https://localhost:8080/",
          "height": 1000
        },
        "id": "duhtYZNC9iwO",
        "outputId": "5fecd46f-80b8-43a8-9b78-af8276d9a5ba"
      },
      "execution_count": 2,
      "outputs": [
        {
          "output_type": "stream",
          "name": "stdout",
          "text": [
            "No model of cardinality 2\n",
            "Number of nonisomorphic models of cardinality 3  is  10\n",
            "Fine spectrum:  [1, 0, 10]\n",
            "Number of models of cardinality 3  is  4\n"
          ]
        },
        {
          "output_type": "display_data",
          "data": {
            "text/html": [
              "1<?xml version=\"1.0\" encoding=\"UTF-8\" standalone=\"no\"?>\n",
              "<!DOCTYPE svg PUBLIC \"-//W3C//DTD SVG 1.1//EN\"\n",
              " \"http://www.w3.org/Graphics/SVG/1.1/DTD/svg11.dtd\">\n",
              "<!-- Generated by graphviz version 2.40.1 (20161225.0304)\n",
              " -->\n",
              "<!-- Title: %3 Pages: 1 -->\n",
              "<svg width=\"48pt\" height=\"113pt\"\n",
              " viewBox=\"0.00 0.00 48.00 113.00\" xmlns=\"http://www.w3.org/2000/svg\" xmlns:xlink=\"http://www.w3.org/1999/xlink\">\n",
              "<g id=\"graph0\" class=\"graph\" transform=\"scale(1 1) rotate(0) translate(4 109)\">\n",
              "<title>%3</title>\n",
              "<polygon fill=\"#ffffff\" stroke=\"transparent\" points=\"-4,4 -4,-109 44,-109 44,4 -4,4\"/>\n",
              "<!-- 0 -->\n",
              "<g id=\"node1\" class=\"node\">\n",
              "<title>0</title>\n",
              "<ellipse fill=\"none\" stroke=\"#000000\" cx=\"5.5\" cy=\"-52.5\" rx=\"5.5\" ry=\"5.5\"/>\n",
              "<text text-anchor=\"middle\" x=\"5.5\" y=\"-50\" font-family=\"Times,serif\" font-size=\"10.00\" fill=\"#000000\">0</text>\n",
              "</g>\n",
              "<!-- 1 -->\n",
              "<g id=\"node2\" class=\"node\">\n",
              "<title>1</title>\n",
              "<ellipse fill=\"none\" stroke=\"#000000\" cx=\"19.5\" cy=\"-5.5\" rx=\"5.5\" ry=\"5.5\"/>\n",
              "<text text-anchor=\"middle\" x=\"19.5\" y=\"-3\" font-family=\"Times,serif\" font-size=\"10.00\" fill=\"#000000\">1</text>\n",
              "</g>\n",
              "<!-- 0&#45;&#45;1 -->\n",
              "<g id=\"edge1\" class=\"edge\">\n",
              "<title>0&#45;&#45;1</title>\n",
              "<path fill=\"none\" stroke=\"#000000\" d=\"M7.106,-47.1085C9.8065,-38.0424 15.2248,-19.8524 17.9128,-10.8286\"/>\n",
              "</g>\n",
              "<!-- 2 -->\n",
              "<g id=\"node3\" class=\"node\">\n",
              "<title>2</title>\n",
              "<ellipse fill=\"none\" stroke=\"#000000\" cx=\"19.5\" cy=\"-99.5\" rx=\"5.5\" ry=\"5.5\"/>\n",
              "<text text-anchor=\"middle\" x=\"19.5\" y=\"-97\" font-family=\"Times,serif\" font-size=\"10.00\" fill=\"#000000\">2</text>\n",
              "</g>\n",
              "<!-- 2&#45;&#45;0 -->\n",
              "<g id=\"edge2\" class=\"edge\">\n",
              "<title>2&#45;&#45;0</title>\n",
              "<path fill=\"none\" stroke=\"#000000\" d=\"M17.894,-94.1085C15.1935,-85.0424 9.7752,-66.8524 7.0872,-57.8286\"/>\n",
              "</g>\n",
              "<!-- 3 -->\n",
              "<g id=\"node4\" class=\"node\">\n",
              "<title>3</title>\n",
              "<ellipse fill=\"none\" stroke=\"#000000\" cx=\"34.5\" cy=\"-52.5\" rx=\"5.5\" ry=\"5.5\"/>\n",
              "<text text-anchor=\"middle\" x=\"34.5\" y=\"-50\" font-family=\"Times,serif\" font-size=\"10.00\" fill=\"#000000\">3</text>\n",
              "</g>\n",
              "<!-- 2&#45;&#45;3 -->\n",
              "<g id=\"edge3\" class=\"edge\">\n",
              "<title>2&#45;&#45;3</title>\n",
              "<path fill=\"none\" stroke=\"#000000\" d=\"M21.2207,-94.1085C24.1141,-85.0424 29.9195,-66.8524 32.7994,-57.8286\"/>\n",
              "</g>\n",
              "<!-- 3&#45;&#45;1 -->\n",
              "<g id=\"edge4\" class=\"edge\">\n",
              "<title>3&#45;&#45;1</title>\n",
              "<path fill=\"none\" stroke=\"#000000\" d=\"M32.7793,-47.1085C29.8859,-38.0424 24.0805,-19.8524 21.2006,-10.8286\"/>\n",
              "</g>\n",
              "</g>\n",
              "</svg>\n",
              "&nbsp; &nbsp; &nbsp;  &nbsp; "
            ]
          },
          "metadata": {}
        },
        {
          "output_type": "display_data",
          "data": {
            "text/plain": [
              "<IPython.core.display.Markdown object>"
            ],
            "text/markdown": "$\\color{green}\n\\renewcommand{\\And}{\\ \\text{and}\\ }\n\\newcommand{\\Or}{\\ \\text{or}\\ }\n\\newcommand{\\Not}{\\text{not}\\ }\n\\newcommand{\\m}{\\mathbf}\n\\newcommand{\\bb}{\\mathbb}\n\\newcommand{\\cc}{\\mathcal}\n\\newcommand{\\s}{\\text}\n\\newcommand{\\bsl}{\\backslash}\n\\newcommand{\\sm}{{\\sim}}\n\\newcommand{\\tup}[1]{(#1)}\n\\newcommand{\\Mod}{\\text{Mod}}\n\\newcommand{\\Con}{\\text{Con}}\n\\newcommand{\\Pre}{\\text{Pre}}\n\\m{Pos}=[\n  x\\le x, \\newline\n  x\\le y \\And y\\le x\\implies x=y,\\newline\n  x\\le y \\And y\\le z\\implies x\\le z]$\n\n$\\color{green}\n\\renewcommand{\\And}{\\ \\text{and}\\ }\n\\newcommand{\\Or}{\\ \\text{or}\\ }\n\\newcommand{\\Not}{\\text{not}\\ }\n\\newcommand{\\m}{\\mathbf}\n\\newcommand{\\bb}{\\mathbb}\n\\newcommand{\\cc}{\\mathcal}\n\\newcommand{\\s}{\\text}\n\\newcommand{\\bsl}{\\backslash}\n\\newcommand{\\sm}{{\\sim}}\n\\newcommand{\\tup}[1]{(#1)}\n\\newcommand{\\Mod}{\\text{Mod}}\n\\newcommand{\\Con}{\\text{Con}}\n\\newcommand{\\Pre}{\\text{Pre}}\n\\s{cdot} = [x\\le y\\implies x\\cdot z\\le y\\cdot z, x\\le y\\implies z\\cdot x\\le z\\cdot y]$\n\n$\\color{green}\n\\renewcommand{\\And}{\\ \\text{and}\\ }\n\\newcommand{\\Or}{\\ \\text{or}\\ }\n\\newcommand{\\Not}{\\text{not}\\ }\n\\newcommand{\\m}{\\mathbf}\n\\newcommand{\\bb}{\\mathbb}\n\\newcommand{\\cc}{\\mathcal}\n\\newcommand{\\s}{\\text}\n\\newcommand{\\bsl}{\\backslash}\n\\newcommand{\\sm}{{\\sim}}\n\\newcommand{\\tup}[1]{(#1)}\n\\newcommand{\\Mod}{\\text{Mod}}\n\\newcommand{\\Con}{\\text{Con}}\n\\newcommand{\\Pre}{\\text{Pre}}\nA = \\Mod(\\m{Pos}+\\s{cdot}+\n[0\\le 1, \\Not 0\\le 2, \\Not 2\\le 0, \\Not 1\\le 2, \\Not 2\\le 1,\n(x\\cdot y)\\cdot z = x\\cdot(y\\cdot z), \nx\\cdot e = x, \ne\\cdot x = x], 3)\\color{blue} = [\\newline\n{\\scriptsize\\left[\\begin{array}{c|ccc}\n\\le_{0}&0&1&2\\\\\\hline\n0&t&t&\\\\\n1&&t&\\\\\n2&&&t\\end{array},\\ \n\\begin{array}{c|ccc}\n\\cdot_{0}&0&1&2\\\\\\hline\n0&0&1&2\\\\\n1&1&1&2\\\\\n2&2&2&1\\end{array},\\ \ne=0\\right]}\n, \\newline\n{\\scriptsize\\left[\\begin{array}{c|ccc}\n\\le_{1}&0&1&2\\\\\\hline\n0&t&t&\\\\\n1&&t&\\\\\n2&&&t\\end{array},\\ \n\\begin{array}{c|ccc}\n\\cdot_{1}&0&1&2\\\\\\hline\n0&0&1&2\\\\\n1&1&1&2\\\\\n2&2&2&2\\end{array},\\ \ne=0\\right]}\n, \\newline\n{\\scriptsize\\left[\\begin{array}{c|ccc}\n\\le_{2}&0&1&2\\\\\\hline\n0&t&t&\\\\\n1&&t&\\\\\n2&&&t\\end{array},\\ \n\\begin{array}{c|ccc}\n\\cdot_{2}&0&1&2\\\\\\hline\n0&0&0&2\\\\\n1&0&1&2\\\\\n2&2&2&0\\end{array},\\ \ne=1\\right]}\n, \\newline\n{\\scriptsize\\left[\\begin{array}{c|ccc}\n\\le_{3}&0&1&2\\\\\\hline\n0&t&t&\\\\\n1&&t&\\\\\n2&&&t\\end{array},\\ \n\\begin{array}{c|ccc}\n\\cdot_{3}&0&1&2\\\\\\hline\n0&0&0&2\\\\\n1&0&1&2\\\\\n2&2&2&2\\end{array},\\ \ne=1\\right]}\n, \\newline\n{\\scriptsize\\left[\\begin{array}{c|ccc}\n\\le_{4}&0&1&2\\\\\\hline\n0&t&t&\\\\\n1&&t&\\\\\n2&&&t\\end{array},\\ \n\\begin{array}{c|ccc}\n\\cdot_{4}&0&1&2\\\\\\hline\n0&0&0&0\\\\\n1&0&0&1\\\\\n2&0&1&2\\end{array},\\ \ne=2\\right]}\n, \\newline\n{\\scriptsize\\left[\\begin{array}{c|ccc}\n\\le_{5}&0&1&2\\\\\\hline\n0&t&t&\\\\\n1&&t&\\\\\n2&&&t\\end{array},\\ \n\\begin{array}{c|ccc}\n\\cdot_{5}&0&1&2\\\\\\hline\n0&0&0&0\\\\\n1&0&1&1\\\\\n2&0&1&2\\end{array},\\ \ne=2\\right]}\n, \\newline\n{\\scriptsize\\left[\\begin{array}{c|ccc}\n\\le_{6}&0&1&2\\\\\\hline\n0&t&t&\\\\\n1&&t&\\\\\n2&&&t\\end{array},\\ \n\\begin{array}{c|ccc}\n\\cdot_{6}&0&1&2\\\\\\hline\n0&0&0&0\\\\\n1&1&1&1\\\\\n2&0&1&2\\end{array},\\ \ne=2\\right]}\n, \\newline\n{\\scriptsize\\left[\\begin{array}{c|ccc}\n\\le_{7}&0&1&2\\\\\\hline\n0&t&t&\\\\\n1&&t&\\\\\n2&&&t\\end{array},\\ \n\\begin{array}{c|ccc}\n\\cdot_{7}&0&1&2\\\\\\hline\n0&0&1&0\\\\\n1&0&1&1\\\\\n2&0&1&2\\end{array},\\ \ne=2\\right]}\n, \\newline\n{\\scriptsize\\left[\\begin{array}{c|ccc}\n\\le_{8}&0&1&2\\\\\\hline\n0&t&t&\\\\\n1&&t&\\\\\n2&&&t\\end{array},\\ \n\\begin{array}{c|ccc}\n\\cdot_{8}&0&1&2\\\\\\hline\n0&0&1&0\\\\\n1&1&1&1\\\\\n2&0&1&2\\end{array},\\ \ne=2\\right]}\n, \\newline\n{\\scriptsize\\left[\\begin{array}{c|ccc}\n\\le_{9}&0&1&2\\\\\\hline\n0&t&t&\\\\\n1&&t&\\\\\n2&&&t\\end{array},\\ \n\\begin{array}{c|ccc}\n\\cdot_{9}&0&1&2\\\\\\hline\n0&1&1&0\\\\\n1&1&1&1\\\\\n2&0&1&2\\end{array},\\ \ne=2\\right]}\n]$\n\n$\\color{green}\n\\renewcommand{\\And}{\\ \\text{and}\\ }\n\\newcommand{\\Or}{\\ \\text{or}\\ }\n\\newcommand{\\Not}{\\text{not}\\ }\n\\newcommand{\\m}{\\mathbf}\n\\newcommand{\\bb}{\\mathbb}\n\\newcommand{\\cc}{\\mathcal}\n\\newcommand{\\s}{\\text}\n\\newcommand{\\bsl}{\\backslash}\n\\newcommand{\\sm}{{\\sim}}\n\\newcommand{\\tup}[1]{(#1)}\n\\newcommand{\\Mod}{\\text{Mod}}\n\\newcommand{\\Con}{\\text{Con}}\n\\newcommand{\\Pre}{\\text{Pre}}\n|A|\\color{blue} = 10$\n\n$\\color{green}\n\\renewcommand{\\And}{\\ \\text{and}\\ }\n\\newcommand{\\Or}{\\ \\text{or}\\ }\n\\newcommand{\\Not}{\\text{not}\\ }\n\\newcommand{\\m}{\\mathbf}\n\\newcommand{\\bb}{\\mathbb}\n\\newcommand{\\cc}{\\mathcal}\n\\newcommand{\\s}{\\text}\n\\newcommand{\\bsl}{\\backslash}\n\\newcommand{\\sm}{{\\sim}}\n\\newcommand{\\tup}[1]{(#1)}\n\\newcommand{\\Mod}{\\text{Mod}}\n\\newcommand{\\Con}{\\text{Con}}\n\\newcommand{\\Pre}{\\text{Pre}}\nshow(\\Pre(A_0))$"
          },
          "metadata": {}
        }
      ]
    },
    {
      "cell_type": "code",
      "source": [],
      "metadata": {
        "id": "EK5XlMKS94A3"
      },
      "execution_count": 2,
      "outputs": []
    }
  ]
}